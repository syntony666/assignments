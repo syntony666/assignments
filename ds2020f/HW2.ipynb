{
 "cells": [
  {
   "source": [
    "## Programming part of Homework 2 (Data Structures,Fall 2020)\n",
    "\n",
    "## Name: 呂柏鴻\n",
    "## Student ID Number: 107820016\n",
    "\n",
    "### Programming problem 1\n",
    "Consider the problem of generating the series $S$ of numbers in Problem 3. Please use Python to implement the pseudo-code you provide for solving the problem. You should provide the iterative and recursive functions named with `Dec_to_Bin_Ite()` and `Dec_to_Bin_Rec()` respectively. Then, perform a comparison on these two versions by measuring the execution time. Besides, we also consider the number of recursive calls made in the recursive approaches. Hence, you need to\n",
    "\n",
    "1. implement the iterative approach as a function named as `Dec_to_Bin_Ite()`,\n",
    "\n",
    "2. provide the recursive version for the approach named as `Dec_to_Bin_Rec()`, and\n",
    "\n",
    "3. compare these two function with the same input in terms of running time and write what you have observed.\n",
    "\n",
    "We will use an in-built python library `timeit` and the module function `timeit.timeit()` for measuring the running time respective. In you observation, please indicate the ways to measure the time and this will be provided in the template.\n",
    "\n",
    "**Note:** For the programming problems, please do some experiments by yourself to observe the running time and the number of recursive calls. You need to report what you have observed from the experiments when you submit your homework."
   ],
   "cell_type": "markdown",
   "metadata": {}
  },
  {
   "cell_type": "code",
   "execution_count": 1,
   "metadata": {
    "tags": []
   },
   "outputs": [
    {
     "output_type": "stream",
     "name": "stdout",
     "text": [
      "1010\n10011\n111111\n"
     ]
    }
   ],
   "source": [
    "def Dec_to_Bin_Ite(n):\n",
    "    bin = ''\n",
    "    while n!=0:\n",
    "        if n%2 == 1:\n",
    "            bin = '1' + bin\n",
    "        elif n%2 == 0:\n",
    "            bin = '0' + bin\n",
    "        n//= 2\n",
    "    return bin\n",
    "        \n",
    "\n",
    "print(Dec_to_Bin_Ite(10))\n",
    "print(Dec_to_Bin_Ite(19))\n",
    "print(Dec_to_Bin_Ite(63))"
   ]
  },
  {
   "cell_type": "code",
   "execution_count": 2,
   "metadata": {},
   "outputs": [
    {
     "output_type": "stream",
     "name": "stdout",
     "text": [
      "1010\n10011\n111111\n"
     ]
    }
   ],
   "source": [
    "def Dec_to_Bin_Rec(n):\n",
    "    bin = ''\n",
    "    if n == 0:\n",
    "        return ''\n",
    "    elif n%2 == 1:\n",
    "        return Dec_to_Bin_Rec(n//2) + '1'\n",
    "    elif n%2 == 0:\n",
    "        return Dec_to_Bin_Rec(n//2) + '0'\n",
    "\n",
    "    \n",
    "print(Dec_to_Bin_Rec(10))\n",
    "print(Dec_to_Bin_Rec(19))\n",
    "print(Dec_to_Bin_Rec(63))"
   ]
  },
  {
   "cell_type": "code",
   "execution_count": 3,
   "metadata": {},
   "outputs": [
    {
     "output_type": "stream",
     "name": "stdout",
     "text": [
      "Running time comparison (Timer Method 1):\nIterative on  1050\niterative approach: 0.013380100000006223\nRecursive approach: 0.01523510000001238\nRunning time comparison (Timer Method 2):\nIterative on  1050\niterative approach: 0.01317689999999061\nRecursive approach: 0.015164400000003297\n"
     ]
    }
   ],
   "source": [
    "#---------------------------------------------------------timeit\n",
    "import timeit as ti\n",
    "n=1050\n",
    "#---------------------------------------------------------Method 1\n",
    "print(\"Running time comparison (Timer Method 1):\")\n",
    "\n",
    "tstart = ti.default_timer() #timer start 計時器開啟\n",
    "for i in range(10000):\n",
    "    Dec_to_Bin_Ite(n)\n",
    "tend = ti.default_timer() #timer end計時器關閉\n",
    "t_ite=tend - tstart#開始與結束的差值\n",
    "\n",
    "tstart = ti.default_timer() #timer start 計時器開啟\n",
    "for i in range(10000):\n",
    "    Dec_to_Bin_Rec(n)\n",
    "tend = ti.default_timer() #timer end計時器關閉\n",
    "t_rec=tend - tstart#開始與結束的差值\n",
    "\n",
    "print(\"Iterative on \", n)\n",
    "print(\"iterative approach:\", t_ite)\n",
    "print(\"Recursive approach:\", t_rec)\n",
    "\n",
    "#---------------------------------------------------------Method 2\n",
    "print(\"Running time comparison (Timer Method 2):\")\n",
    "\n",
    "def iterative_test():\n",
    "    Dec_to_Bin_Ite(n)\n",
    "    \n",
    "def recursive_test():\n",
    "    Dec_to_Bin_Rec(n)\n",
    "    \n",
    "t_ite = ti.timeit(\"iterative_test()\", setup=\"from __main__ import iterative_test\", number = 10000)#timeit(函數名稱,執行次數)\n",
    "t_rec = ti.timeit(\"recursive_test()\", setup=\"from __main__ import recursive_test\", number = 10000)\n",
    "\n",
    "print(\"Iterative on \", n)\n",
    "print(\"iterative approach:\", t_ite)\n",
    "print(\"Recursive approach:\", t_rec)\n"
   ]
  },
  {
   "source": [
    "#### Please write down the observations you have after the comparisons:\n",
    "##### Inputs (values of n) for five experiments\n",
    "1.\n",
    "\n",
    "2.\n",
    "\n",
    "3.\n",
    "\n",
    "4.\n",
    "\n",
    "5.\n",
    "\n",
    "##### Results of comparisoms\n",
    "*******************************************************************************************************\n",
    "**Method 1**\n",
    "\n",
    "| time          | time for exp1  | time for exp2  | time for exp3  | time for exp4  | time for exp5  | \n",
    "| -----------   | -------------- | -------------- | -------------- | -------------- | -------------- |\n",
    "|Iteration      |                |                |                |                |                |\n",
    "|Recursion      |                |                |                |                |                |\n",
    "\n",
    "**Method 2**\n",
    "\n",
    "| time          | time for exp1  | time for exp2  | time for exp3  | time for exp4  | time for exp5  | \n",
    "| -----------   | -------------- | -------------- | -------------- | -------------- | -------------- |\n",
    "|Iteration      |                |                |                |                |                |\n",
    "|Recursion      |                |                |                |                |                |\n",
    "\n",
    "*******************************************************************************************************\n",
    "\n",
    "##### Observations\n"
   ],
   "cell_type": "markdown",
   "metadata": {}
  },
  {
   "source": [
    "### Programming problem 2\n",
    "A ***permutation*** $P$ of size $n$ is a way of arranging the numbers between 1 and $n$, where each number must be used and can only be used once. For example, 5 4 1 2 3 is a permutation of 1 2 3 4 5 where $P(5)=1$, $P(4)=2$, $P(1)=3$, $P(2)=4$, and $P(3)=5$. An ***inversion*** in a permutation $P$ is a pair of numbers $i \\mbox{ and} j \\in\\{1, \\ldots, n\\}$ with $i<j$ such that the larger number appears to the left of the smaller one in the permutation, that is $P(j)<P(i)$. In the example, the pair of (3, 5) is an inversion in $P$. The ***inversion number*** of a permutation is the total number of inversions. Please write the Python fuctions mentioned in Problem 4 and compare the performance in term of running time. The things to be provided are as below.\n",
    "\n",
    "1. Implement the iterative approach using Python and name the function as `inversion_number_iterative()`.\n",
    "\n",
    "2. Please implement the linear recursive version you provide in Problem 4(c) with the function name of `inversion\\_number\\_recursive()`.\n",
    "\n",
    "3. Write the binary recursive version you provide in Problem 4(d) with the function named as `inversion\\_number\\_tworecurs()`.\n",
    "\n",
    "4. Compare these functions with the same input in terms of running time and write what you have observed."
   ],
   "cell_type": "markdown",
   "metadata": {}
  },
  {
   "cell_type": "code",
   "execution_count": 4,
   "metadata": {},
   "outputs": [
    {
     "output_type": "stream",
     "name": "stdout",
     "text": [
      "The inversion number of  [35, 11, 26, 13, 64, 21, 44, 6, 100, 57, 77, 82] is 19\n"
     ]
    }
   ],
   "source": [
    "def inversion_number_iterative(P):\n",
    "    inversion_number = 0\n",
    "    for pivot in range(len(P)):\n",
    "        for target in range(pivot + 1, len(P)):\n",
    "            if P[pivot] > P[target]:\n",
    "                inversion_number+=1\n",
    "    return inversion_number\n",
    "\n",
    "\n",
    "\n",
    "# perm=[4, 6, 2, 5, 1, 3]\n",
    "# perm = [12, 11, 13, 5, 6, 7]\n",
    "perm=[35, 11, 26, 13, 64, 21, 44, 6, 100, 57, 77, 82]\n",
    "print('The inversion number of ', perm, 'is', inversion_number_iterative(perm))"
   ]
  },
  {
   "cell_type": "code",
   "execution_count": 5,
   "metadata": {},
   "outputs": [
    {
     "output_type": "stream",
     "name": "stdout",
     "text": [
      "The inversion number of  [4, 6, 2, 5, 1, 3] is 10\n"
     ]
    }
   ],
   "source": [
    "def inversion_number_recursive(P):\n",
    "    if len(P) == 1:\n",
    "        return 0\n",
    "    else:\n",
    "        return recursive(P, 0, len(P)-1)\n",
    "\n",
    "def recursive(P, pivot, target):\n",
    "    if pivot == target:\n",
    "        return inversion_number_recursive(P[1:])\n",
    "    elif P[pivot] > P[target]:\n",
    "        return recursive(P, pivot, target - 1) + 1\n",
    "    else:\n",
    "        return recursive(P, pivot, target - 1)\n",
    "\n",
    "\n",
    "\n",
    "# perm = [x for x in reversed(range(1,200))]\n",
    "perm=[4, 6, 2, 5, 1, 3]\n",
    "# perm = [12, 11, 13, 5, 6, 7]\n",
    "# perm=[35, 11, 26, 13, 64, 21, 44, 6, 100, 57, 77, 82]\n",
    "print('The inversion number of ', perm, 'is', inversion_number_recursive(perm))"
   ]
  },
  {
   "cell_type": "code",
   "execution_count": 6,
   "metadata": {
    "tags": []
   },
   "outputs": [
    {
     "output_type": "stream",
     "name": "stdout",
     "text": [
      "The inversion number of  [1, 2, 3, 4, 5, 6] is 10\n"
     ]
    }
   ],
   "source": [
    "def inversion_number_tworecurs(P):\n",
    "    \n",
    "    if len(P) < 2:\n",
    "        return 0\n",
    "\n",
    "    left, right, sorted_list = P[:len(P)//2], P[len(P)//2:], P\n",
    "    it_l, it_r, it_sl = 0, 0, 0\n",
    "    count = inversion_number_tworecurs(left) + inversion_number_tworecurs(right)\n",
    "\n",
    "    while it_l < len(left) and it_r < len(right):\n",
    "        count += it_r\n",
    "        while it_r < len(right) and left[it_l] > right[it_r]:\n",
    "            sorted_list[it_sl] = right[it_r]\n",
    "            it_r, it_sl, count = it_r + 1, it_sl + 1, count + 1\n",
    "        sorted_list[it_sl] = left[it_l]\n",
    "        it_l, it_sl = it_l + 1, it_sl + 1\n",
    "\n",
    "    while it_l < len(left):\n",
    "        sorted_list[it_sl] = left[it_l]\n",
    "        it_l, it_sl = it_l + 1, it_sl + 1\n",
    "        count += it_r\n",
    "\n",
    "    while it_r < len(right):\n",
    "        sorted_list[it_sl] = right[it_r]\n",
    "        it_r, it_sl = it_r + 1, it_sl + 1\n",
    "\n",
    "    return count\n",
    "    \n",
    "\n",
    "# perm = [x for x in reversed(range(1,200))]\n",
    "perm=[4, 6, 2, 5, 1, 3]\n",
    "# perm = [12, 11, 13, 5, 6, 7]\n",
    "# perm=[35, 11, 26, 13, 64, 21, 44, 6, 100, 57, 77, 82]\n",
    "print('The inversion number of ', perm, 'is', inversion_number_tworecurs(perm))"
   ]
  },
  {
   "cell_type": "code",
   "execution_count": 8,
   "metadata": {
    "scrolled": false,
    "tags": []
   },
   "outputs": [
    {
     "output_type": "stream",
     "name": "stdout",
     "text": [
      "Running time comparison (Timer Method 2):\n",
      "Iterative approach: 10.48333000000001\n",
      "Binrecurs approach: 2.8697667999999936\n"
     ]
    }
   ],
   "source": [
    "#---------------------------------------------------------timeit\n",
    "import timeit as ti\n",
    "\n",
    "#perm = [12, 11, 13, 5, 6, 7]\n",
    "# perm=[35, 11, 26, 13, 64, 21, 44, 6, 100, 57, 77, 82]\n",
    "perm = [x for x in reversed(range(1,200))]\n",
    "\n",
    "#---------------------------------------------------------Method 1\n",
    "# print(\"Running time comparison (Timer Method 1):\")\n",
    "\n",
    "# tstart = ti.default_timer() #timer start 計時器開啟\n",
    "\n",
    "# for i in range(10000):\n",
    "#     inversion_number_iterative(perm)\n",
    "# tend = ti.default_timer() #timer end計時器關閉\n",
    "# t_ite=tend - tstart#開始與結束的差值\n",
    "\n",
    "# tstart = ti.default_timer() #timer start 計時器開啟\n",
    "# for i in range(10000):\n",
    "#     inversion_number_recursive(perm)\n",
    "# tend = ti.default_timer() #timer end計時器關閉\n",
    "# t_rec=tend - tstart#開始與結束的差值\n",
    "\n",
    "# tstart = ti.default_timer() #timer start 計時器開啟\n",
    "# for i in range(10000):\n",
    "#     inversion_number_tworecurs(perm)\n",
    "# tend = ti.default_timer() #timer end計時器關閉\n",
    "# t_twr=tend - tstart#開始與結束的差值\n",
    "\n",
    "# print(\"Permutation:\", perm)\n",
    "# print('The inversion number of is', inversion_number_iterative(perm),'(iterat)')\n",
    "# print('The inversion number of is', inversion_number_recursive(perm),'(linear)')\n",
    "# print('The inversion number of is', inversion_number_tworecurs(perm),'(binary)')\n",
    "\n",
    "# print(\"Iterative approach:\", t_ite)\n",
    "# print(\"Recursive approach:\", t_rec)\n",
    "# print(\"Binrecurs approach:\", t_twr)\n",
    "\n",
    "#---------------------------------------------------------Method 2\n",
    "print(\"Running time comparison (Timer Method 2):\")\n",
    "\n",
    "def iterative_test():\n",
    "    inversion_number_iterative(perm)\n",
    "\n",
    "# def recursive_test():\n",
    "#     inversion_number_recursive(perm)\n",
    "\n",
    "def binrecurs_test():\n",
    "    inversion_number_tworecurs(perm)\n",
    "    \n",
    "t_ite = ti.timeit(\"iterative_test()\", setup=\"from __main__ import iterative_test\", number = 10000)#timeit(函數名稱,執行次數)\n",
    "# t_rec = ti.timeit(\"recursive_test()\", setup=\"from __main__ import recursive_test\", number = 10000)\n",
    "t_twr = ti.timeit(\"binrecurs_test()\", setup=\"from __main__ import binrecurs_test\", number = 10000)\n",
    "\n",
    "print(\"Iterative approach:\", t_ite)\n",
    "# print(\"Recursive approach:\", t_rec)\n",
    "print(\"Binrecurs approach:\", t_twr)"
   ]
  },
  {
   "cell_type": "markdown",
   "metadata": {},
   "source": [
    "#### Please write down the observations you have after the comparisons:\n",
    "##### Inputs for five experiments\n",
    "1.<br>\n",
    "2.<br>\n",
    "3.<br>\n",
    "4.<br>\n",
    "5.<br>\n",
    "##### Results of comparisoms\n",
    "*******************************************************************************************************\n",
    "**Method 1**\n",
    "\n",
    "| time          | time for exp1  | time for exp2  | time for exp3  | time for exp4  | time for exp5  | \n",
    "| -----------   | -------------- | -------------- | -------------- | -------------- | -------------- |\n",
    "|Iteration      |                |                |                |                |                |\n",
    "|Recursion      |                |                |                |                |                |\n",
    "|Binrecurs      |                |                |                |                |                |\n",
    "\n",
    "**Method 2**\n",
    "\n",
    "| time          | time for exp1  | time for exp2  | time for exp3  | time for exp4  | time for exp5  | \n",
    "| -----------   | -------------- | -------------- | -------------- | -------------- | -------------- |\n",
    "|Iteration      |                |                |                |                |                |\n",
    "|Recursion      |                |                |                |                |                |\n",
    "|Binrecurs      |                |                |                |                |                |\n",
    "\n",
    "*******************************************************************************************************\n",
    "\n",
    "##### Observations\n"
   ]
  }
 ],
 "metadata": {
  "kernelspec": {
   "name": "Python 3.8.5 64-bit",
   "display_name": "Python 3.8.5 64-bit",
   "metadata": {
    "interpreter": {
     "hash": "2db524e06e9f5f4ffedc911c917cb75e12dbc923643829bf417064a77eb14d37"
    }
   }
  },
  "language_info": {
   "codemirror_mode": {
    "name": "ipython",
    "version": 3
   },
   "file_extension": ".py",
   "mimetype": "text/x-python",
   "name": "python",
   "nbconvert_exporter": "python",
   "pygments_lexer": "ipython3",
   "version": "3.8.5-final"
  }
 },
 "nbformat": 4,
 "nbformat_minor": 2
}